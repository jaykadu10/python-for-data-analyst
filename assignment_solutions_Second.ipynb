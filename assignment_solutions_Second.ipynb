{
  "cells": [
    {
      "cell_type": "markdown",
      "metadata": {
        "id": "KV4ASY7Y14YG"
      },
      "source": [
        "# Module 2: Control Flow Assignments\n",
        "## Lesson 2.1: Conditional Statements\n",
        "### Assignment 1: Simple if Statement\n",
        "\n",
        "Write a program that asks the user to input a number and prints whether the number is positive."
      ],
      "id": "KV4ASY7Y14YG"
    },
    {
      "cell_type": "code",
      "execution_count": null,
      "metadata": {
        "id": "O1q1cBWj14YJ"
      },
      "outputs": [],
      "source": [
        "number = float(input(\"Enter a number: \"))\n",
        "if number > 0:\n",
        "    print(\"The number is positive.\")"
      ],
      "id": "O1q1cBWj14YJ"
    },
    {
      "cell_type": "markdown",
      "metadata": {
        "id": "Ntggm5Ay14YK"
      },
      "source": [
        "### Assignment 2: if-else Statement\n",
        "\n",
        "Write a program that asks the user to input a number and prints whether the number is positive or negative."
      ],
      "id": "Ntggm5Ay14YK"
    },
    {
      "cell_type": "code",
      "execution_count": null,
      "metadata": {
        "id": "j9Z2n6XP14YK",
        "outputId": "b21854e9-bdb7-4892-86e3-1cda7ff0c245"
      },
      "outputs": [
        {
          "name": "stdout",
          "output_type": "stream",
          "text": [
            "The number is positive.\n"
          ]
        }
      ],
      "source": [
        "number = float(input(\"Enter a number: \"))\n",
        "if number > 0:\n",
        "    print(\"The number is positive.\")\n",
        "else:\n",
        "    print(\"The number is negative.\")"
      ],
      "id": "j9Z2n6XP14YK"
    },
    {
      "cell_type": "markdown",
      "metadata": {
        "id": "kO5VJdqI14YL"
      },
      "source": [
        "### Assignment 3: if-elif-else Statement\n",
        "\n",
        "Write a program that asks the user to input a number and prints whether the number is positive, negative, or zero."
      ],
      "id": "kO5VJdqI14YL"
    },
    {
      "cell_type": "code",
      "execution_count": null,
      "metadata": {
        "id": "2bex7Fsi14YL"
      },
      "outputs": [],
      "source": [
        "number = float(input(\"Enter a number: \"))\n",
        "if number > 0:\n",
        "    print(\"The number is positive.\")\n",
        "elif number < 0:\n",
        "    print(\"The number is negative.\")\n",
        "else:\n",
        "    print(\"The number is zero.\")"
      ],
      "id": "2bex7Fsi14YL"
    },
    {
      "cell_type": "markdown",
      "metadata": {
        "id": "AU2tGz5-14YL"
      },
      "source": [
        "### Assignment 4: Nested if Statement\n",
        "\n",
        "Write a program that asks the user to input a number and prints whether the number is positive and even, positive and odd, or negative."
      ],
      "id": "AU2tGz5-14YL"
    },
    {
      "cell_type": "code",
      "execution_count": null,
      "metadata": {
        "id": "49bcEAsS14YL"
      },
      "outputs": [],
      "source": [
        "number = float(input(\"Enter a number: \"))\n",
        "if number > 0:\n",
        "    if number % 2 == 0:\n",
        "        print(\"The number is positive and even.\")\n",
        "    else:\n",
        "        print(\"The number is positive and odd.\")\n",
        "else:\n",
        "    print(\"The number is negative.\")"
      ],
      "id": "49bcEAsS14YL"
    },
    {
      "cell_type": "markdown",
      "metadata": {
        "id": "rYc_E_Wo14YM"
      },
      "source": [
        "## Lesson 2.2: Loops\n",
        "### Assignment 5: for Loop\n",
        "\n",
        "Write a program that prints all the numbers from 1 to 10 using a for loop."
      ],
      "id": "rYc_E_Wo14YM"
    },
    {
      "cell_type": "code",
      "execution_count": null,
      "metadata": {
        "id": "R6dtgRY714YM"
      },
      "outputs": [],
      "source": [
        "for i in range(1, 11):\n",
        "    print(i)"
      ],
      "id": "R6dtgRY714YM"
    },
    {
      "cell_type": "markdown",
      "metadata": {
        "id": "LhielqD414YM"
      },
      "source": [
        "### Assignment 6: while Loop\n",
        "\n",
        "Write a program that prints all the numbers from 1 to 10 using a while loop."
      ],
      "id": "LhielqD414YM"
    },
    {
      "cell_type": "code",
      "execution_count": null,
      "metadata": {
        "id": "CVpVPeAB14YM"
      },
      "outputs": [],
      "source": [
        "i = 1\n",
        "while i <= 10:\n",
        "    print(i)\n",
        "    i += 1"
      ],
      "id": "CVpVPeAB14YM"
    },
    {
      "cell_type": "markdown",
      "metadata": {
        "id": "KF0kIK2e14YM"
      },
      "source": [
        "### Assignment 7: Nested Loops\n",
        "\n",
        "Write a program that prints a 5x5 grid of asterisks (*) using nested loops."
      ],
      "id": "KF0kIK2e14YM"
    },
    {
      "cell_type": "code",
      "execution_count": null,
      "metadata": {
        "id": "QIKNMfvb14YM"
      },
      "outputs": [],
      "source": [
        "for i in range(5):\n",
        "    for j in range(5):\n",
        "        print(\"*\", end=\" \")\n",
        "    print()"
      ],
      "id": "QIKNMfvb14YM"
    },
    {
      "cell_type": "markdown",
      "metadata": {
        "id": "dyhB5xIc14YM"
      },
      "source": [
        "### Assignment 8: break Statement\n",
        "\n",
        "Write a program that asks the user to input numbers until they input 0. The program should print the sum of all the input numbers."
      ],
      "id": "dyhB5xIc14YM"
    },
    {
      "cell_type": "code",
      "execution_count": null,
      "metadata": {
        "id": "KrlDwDoY14YM"
      },
      "outputs": [],
      "source": [
        "total = 0\n",
        "while True:\n",
        "    number = float(input(\"Enter a number (0 to stop): \"))\n",
        "    if number == 0:\n",
        "        break\n",
        "    total += number\n",
        "print(f\"The sum of all the numbers is {total}.\")"
      ],
      "id": "KrlDwDoY14YM"
    },
    {
      "cell_type": "markdown",
      "metadata": {
        "id": "zum3AaSe14YM"
      },
      "source": [
        "### Assignment 9: continue Statement\n",
        "\n",
        "Write a program that prints all the numbers from 1 to 10 except 5 using a for loop and continue statement."
      ],
      "id": "zum3AaSe14YM"
    },
    {
      "cell_type": "code",
      "execution_count": null,
      "metadata": {
        "id": "mmgYOlZE14YN"
      },
      "outputs": [],
      "source": [
        "for i in range(1, 11):\n",
        "    if i == 5:\n",
        "        continue\n",
        "    print(i)"
      ],
      "id": "mmgYOlZE14YN"
    },
    {
      "cell_type": "markdown",
      "metadata": {
        "id": "sQ0EqrxL14YN"
      },
      "source": [
        "### Assignment 10: pass Statement\n",
        "\n",
        "Write a program that defines an empty function using the pass statement."
      ],
      "id": "sQ0EqrxL14YN"
    },
    {
      "cell_type": "code",
      "execution_count": null,
      "metadata": {
        "id": "q1Tv4A5c14YN"
      },
      "outputs": [],
      "source": [
        "def empty_function():\n",
        "    pass\n",
        "\n",
        "# Calling the empty function\n",
        "empty_function()"
      ],
      "id": "q1Tv4A5c14YN"
    },
    {
      "cell_type": "markdown",
      "metadata": {
        "id": "EDbbGHYy14YN"
      },
      "source": [
        "### Assignment 11: Combining Loops and Conditionals\n",
        "\n",
        "Write a program that asks the user to input a number and prints all the even numbers from 1 to that number using a for loop."
      ],
      "id": "EDbbGHYy14YN"
    },
    {
      "cell_type": "code",
      "execution_count": null,
      "metadata": {
        "id": "PLZsjTSk14YN"
      },
      "outputs": [],
      "source": [
        "number = int(input(\"Enter a number: \"))\n",
        "for i in range(1, number + 1):\n",
        "    if i % 2 == 0:\n",
        "        print(i)"
      ],
      "id": "PLZsjTSk14YN"
    },
    {
      "cell_type": "markdown",
      "metadata": {
        "id": "pKYRGqFN14YN"
      },
      "source": [
        "### Assignment 12: Factorial Calculation\n",
        "\n",
        "Write a program that calculates the factorial of a number input by the user using a while loop."
      ],
      "id": "pKYRGqFN14YN"
    },
    {
      "cell_type": "code",
      "execution_count": null,
      "metadata": {
        "id": "CmL9SV5s14YN"
      },
      "outputs": [],
      "source": [
        "number = int(input(\"Enter a number: \"))\n",
        "factorial = 1\n",
        "i = 1\n",
        "while i <= number:\n",
        "    factorial *= i\n",
        "    i += 1\n",
        "print(f\"The factorial of {number} is {factorial}.\")"
      ],
      "id": "CmL9SV5s14YN"
    },
    {
      "cell_type": "markdown",
      "metadata": {
        "id": "rKnSzlz_14YN"
      },
      "source": [
        "### Assignment 13: Sum of Digits\n",
        "\n",
        "Write a program that calculates the sum of the digits of a number input by the user using a while loop."
      ],
      "id": "rKnSzlz_14YN"
    },
    {
      "cell_type": "code",
      "execution_count": null,
      "metadata": {
        "id": "ycJZ-Hl414YN"
      },
      "outputs": [],
      "source": [
        "number = int(input(\"Enter a number: \"))\n",
        "sum_of_digits = 0\n",
        "while number > 0:\n",
        "    digit = number % 10\n",
        "    sum_of_digits += digit\n",
        "    number = number // 10\n",
        "print(f\"The sum of the digits is {sum_of_digits}.\")"
      ],
      "id": "ycJZ-Hl414YN"
    },
    {
      "cell_type": "markdown",
      "metadata": {
        "id": "8os4rbjr14YN"
      },
      "source": [
        "### Assignment 14: Prime Number Check\n",
        "\n",
        "Write a program that checks if a number input by the user is a prime number using a for loop."
      ],
      "id": "8os4rbjr14YN"
    },
    {
      "cell_type": "code",
      "execution_count": null,
      "metadata": {
        "id": "0r_QJfr_14YN"
      },
      "outputs": [],
      "source": [
        "number = int(input(\"Enter a number: \"))\n",
        "is_prime = True\n",
        "if number <= 1:\n",
        "    is_prime = False\n",
        "else:\n",
        "    for i in range(2, int(number ** 0.5) + 1):\n",
        "        if number % i == 0:\n",
        "            is_prime = False\n",
        "            break\n",
        "if is_prime:\n",
        "    print(f\"{number} is a prime number.\")\n",
        "else:\n",
        "    print(f\"{number} is not a prime number.\")"
      ],
      "id": "0r_QJfr_14YN"
    },
    {
      "cell_type": "markdown",
      "metadata": {
        "id": "d9thoBSb14YN"
      },
      "source": [
        "### Assignment 15: Fibonacci Sequence\n",
        "\n",
        "Write a program that prints the first n Fibonacci numbers, where n is input by the user."
      ],
      "id": "d9thoBSb14YN"
    },
    {
      "cell_type": "code",
      "execution_count": null,
      "metadata": {
        "id": "SfzWcvIF14YN"
      },
      "outputs": [],
      "source": [
        "n = int(input(\"Enter the number of Fibonacci numbers to print: \"))\n",
        "a, b = 0, 1\n",
        "count = 0\n",
        "while count < n:\n",
        "    print(a)\n",
        "    a, b = b, a + b\n",
        "    count += 1"
      ],
      "id": "SfzWcvIF14YN"
    }
  ],
  "metadata": {
    "kernelspec": {
      "display_name": "Python 3",
      "language": "python",
      "name": "python3"
    },
    "language_info": {
      "codemirror_mode": {
        "name": "ipython",
        "version": 3
      },
      "file_extension": ".py",
      "mimetype": "text/x-python",
      "name": "python",
      "nbconvert_exporter": "python",
      "pygments_lexer": "ipython3",
      "version": "3.12.0"
    },
    "colab": {
      "provenance": []
    }
  },
  "nbformat": 4,
  "nbformat_minor": 5
}