{
  "cells": [
    {
      "cell_type": "markdown",
      "metadata": {
        "id": "88I5NWS3mfl5"
      },
      "source": [
        "# Lesson 1.2: Python Basics\n",
        "## Topics Covered:\n",
        "- Syntax and Semantics\n",
        "- Variables and Data Types\n",
        "- Basic Operators (Arithmetic, Comparison, Logical)\n"
      ]
    },
    {
      "cell_type": "markdown",
      "metadata": {
        "id": "MQ0nQ_KJmfl7"
      },
      "source": [
        "## 1. Syntax and Semantics\n",
        "\n",
        "**Question 1:** Write a Python program to print \"Hello, World!\"."
      ]
    },
    {
      "cell_type": "code",
      "metadata": {
        "id": "i39un-8Cmfl7"
      },
      "outputs": [],
      "source": [
        "# Solution\n",
        "print(\"Hello, World!\")"
      ],
      "execution_count": null
    },
    {
      "cell_type": "markdown",
      "metadata": {
        "id": "zSbJYvupmfl8"
      },
      "source": [
        "**Question 2:** Write a Python program that takes a user input and prints it."
      ]
    },
    {
      "cell_type": "code",
      "metadata": {
        "id": "GktUX5GGmfl8"
      },
      "outputs": [],
      "source": [
        "# Solution\n",
        "user_input = input(\"Please enter something: \")\n",
        "print(f\"You entered: {user_input}\")"
      ],
      "execution_count": null
    },
    {
      "cell_type": "markdown",
      "metadata": {
        "id": "jeNS-bkemfl9"
      },
      "source": [
        "**Question 3:** Write a Python program to check if a number is positive, negative, or zero."
      ]
    },
    {
      "cell_type": "code",
      "metadata": {
        "id": "5zGt4qSDmfl9"
      },
      "outputs": [],
      "source": [
        "# Solution\n",
        "number = float(input(\"Enter a number: \"))\n",
        "if number > 0:\n",
        "    print(\"The number is positive.\")\n",
        "elif number < 0:\n",
        "    print(\"The number is negative.\")\n",
        "else:\n",
        "    print(\"The number is zero.\")"
      ],
      "execution_count": null
    },
    {
      "cell_type": "markdown",
      "metadata": {
        "id": "h5i1Xrammfl9"
      },
      "source": [
        "**Question 4:** Write a Python program to find the largest of three numbers."
      ]
    },
    {
      "cell_type": "code",
      "metadata": {
        "id": "Kihu5U43mfl9"
      },
      "outputs": [],
      "source": [
        "# Solution\n",
        "num1 = float(input(\"Enter first number: \"))\n",
        "num2 = float(input(\"Enter second number: \"))\n",
        "num3 = float(input(\"Enter third number: \"))\n",
        "\n",
        "if (num1 >= num2) and (num1 >= num3):\n",
        "    largest = num1\n",
        "elif (num2 >= num1) and (num2 >= num3):\n",
        "    largest = num2\n",
        "else:\n",
        "    largest = num3\n",
        "\n",
        "print(f\"The largest number is {largest}\")"
      ],
      "execution_count": null
    },
    {
      "cell_type": "markdown",
      "metadata": {
        "id": "9wvQ14-Emfl9"
      },
      "source": [
        "**Question 5:** Write a Python program to calculate the factorial of a number."
      ]
    },
    {
      "cell_type": "code",
      "metadata": {
        "id": "-65CShpNmfl-"
      },
      "outputs": [],
      "source": [
        "# Solution\n",
        "def factorial(n):\n",
        "    if n == 0:\n",
        "        return 1\n",
        "    else:\n",
        "        return n * factorial(n-1)\n",
        "\n",
        "num = int(input(\"Enter a number: \"))\n",
        "print(f\"The factorial of {num} is {factorial(num)}\")"
      ],
      "execution_count": null
    },
    {
      "cell_type": "markdown",
      "metadata": {
        "id": "nBbsY-rlmfl-"
      },
      "source": [
        "## 2. Variables and Data Types\n",
        "\n",
        "**Question 6:** Create variables of different data types: integer, float, string, and boolean. Print their values and types."
      ]
    },
    {
      "cell_type": "code",
      "metadata": {
        "id": "w-luQ_BEmfl-"
      },
      "outputs": [],
      "source": [
        "# Solution\n",
        "integer_var = 10\n",
        "float_var = 10.5\n",
        "string_var = \"Hello\"\n",
        "boolean_var = True\n",
        "\n",
        "print(f\"Integer value: {integer_var}, type: {type(integer_var)}\")\n",
        "print(f\"Float value: {float_var}, type: {type(float_var)}\")\n",
        "print(f\"String value: {string_var}, type: {type(string_var)}\")\n",
        "print(f\"Boolean value: {boolean_var}, type: {type(boolean_var)}\")"
      ],
      "execution_count": null
    },
    {
      "cell_type": "markdown",
      "metadata": {
        "id": "53N3Rkcemfl-"
      },
      "source": [
        "**Question 7:** Write a Python program to swap the values of two variables."
      ]
    },
    {
      "cell_type": "code",
      "metadata": {
        "id": "jDzicgi0mfl-"
      },
      "outputs": [],
      "source": [
        "# Solution\n",
        "a = 5\n",
        "b = 10\n",
        "print(f\"Before swap: a = {a}, b = {b}\")\n",
        "\n",
        "# Swapping\n",
        "a, b = b, a\n",
        "print(f\"After swap: a = {a}, b = {b}\")"
      ],
      "execution_count": null
    },
    {
      "cell_type": "markdown",
      "metadata": {
        "id": "ztZ3UqRkmfl-"
      },
      "source": [
        "**Question 8:** Write a Python program to convert Celsius to Fahrenheit."
      ]
    },
    {
      "cell_type": "code",
      "metadata": {
        "id": "5ONIbNEcmfl-"
      },
      "outputs": [],
      "source": [
        "# Solution\n",
        "celsius = float(input(\"Enter temperature in Celsius: \"))\n",
        "fahrenheit = (celsius * 9/5) + 32\n",
        "print(f\"{celsius}°C is equal to {fahrenheit}°F\")"
      ],
      "execution_count": null
    },
    {
      "cell_type": "markdown",
      "metadata": {
        "id": "bvcwymT3mfl-"
      },
      "source": [
        "**Question 9:** Write a Python program to concatenate two strings."
      ]
    },
    {
      "cell_type": "code",
      "metadata": {
        "id": "nX5WuBvPmfl-"
      },
      "outputs": [],
      "source": [
        "# Solution\n",
        "string1 = \"Hello\"\n",
        "string2 = \"World\"\n",
        "concatenated_string = string1 + \" \" + string2\n",
        "print(concatenated_string)"
      ],
      "execution_count": null
    },
    {
      "cell_type": "markdown",
      "metadata": {
        "id": "knP4Tlw8mfl-"
      },
      "source": [
        "**Question 10:** Write a Python program to check if a variable is of a specific data type."
      ]
    },
    {
      "cell_type": "code",
      "metadata": {
        "id": "5uLsb_yomfl-"
      },
      "outputs": [],
      "source": [
        "# Solution\n",
        "var = 10.5\n",
        "if isinstance(var, float):\n",
        "    print(f\"{var} is a float\")\n",
        "else:\n",
        "    print(f\"{var} is not a float\")"
      ],
      "execution_count": null
    },
    {
      "cell_type": "markdown",
      "metadata": {
        "id": "qBdom-asmfl-"
      },
      "source": [
        "## 3. Basic Operators (Arithmetic, Comparison, Logical)\n",
        "\n",
        "**Question 11:** Write a Python program to perform arithmetic operations: addition, subtraction, multiplication, and division."
      ]
    },
    {
      "cell_type": "code",
      "metadata": {
        "id": "FtAPN5f-mfl-"
      },
      "outputs": [],
      "source": [
        "# Solution\n",
        "a = 5\n",
        "b = 3\n",
        "\n",
        "print(f\"Addition: {a} + {b} = {a + b}\")\n",
        "print(f\"Subtraction: {a} - {b} = {a - b}\")\n",
        "print(f\"Multiplication: {a} * {b} = {a * b}\")\n",
        "print(f\"Division: {a} / {b} = {a / b}\")"
      ],
      "execution_count": null
    },
    {
      "cell_type": "markdown",
      "metadata": {
        "id": "7nifShQfmfl-"
      },
      "source": [
        "**Question 12:** Write a Python program to demonstrate comparison operators: equal to, not equal to, greater than, less than."
      ]
    },
    {
      "cell_type": "code",
      "metadata": {
        "id": "ujKg9Mp2mfl_"
      },
      "outputs": [],
      "source": [
        "# Solution\n",
        "a = 5\n",
        "b = 3\n",
        "\n",
        "print(f\"{a} == {b}: {a == b}\")\n",
        "print(f\"{a} != {b}: {a != b}\")\n",
        "print(f\"{a} > {b}: {a > b}\")\n",
        "print(f\"{a} < {b}: {a < b}\")"
      ],
      "execution_count": null
    },
    {
      "cell_type": "markdown",
      "metadata": {
        "id": "RM9UiUElmfl_"
      },
      "source": [
        "**Question 13:** Write a Python program to demonstrate logical operators: and, or, not."
      ]
    },
    {
      "cell_type": "code",
      "metadata": {
        "id": "srAvSvBRmfl_"
      },
      "outputs": [],
      "source": [
        "# Solution\n",
        "a = True\n",
        "b = False\n",
        "\n",
        "print(f\"True and False: {a and b}\")\n",
        "print(f\"True or False: {a or b}\")\n",
        "print(f\"not True: {not a}\")"
      ],
      "execution_count": null
    },
    {
      "cell_type": "markdown",
      "metadata": {
        "id": "Ywe1L4jAmfl_"
      },
      "source": [
        "**Question 14:** Write a Python program to calculate the square of a number."
      ]
    },
    {
      "cell_type": "code",
      "metadata": {
        "id": "e5AgXfWYmfl_"
      },
      "outputs": [],
      "source": [
        "# Solution\n",
        "num = float(input(\"Enter a number: \"))\n",
        "square = num ** 2\n",
        "print(f\"The square of {num} is {square}\")"
      ],
      "execution_count": null
    },
    {
      "cell_type": "markdown",
      "metadata": {
        "id": "VvsSP3Npmfl_"
      },
      "source": [
        "**Question 15:** Write a Python program to check if a number is even or odd."
      ]
    },
    {
      "cell_type": "code",
      "metadata": {
        "id": "SZ4u2_T7mfl_"
      },
      "outputs": [],
      "source": [
        "# Solution\n",
        "num = int(input(\"Enter a number: \"))\n",
        "if num % 2 == 0:\n",
        "    print(f\"{num} is even.\")\n",
        "else:\n",
        "    print(f\"{num} is odd.\")"
      ],
      "execution_count": null
    },
    {
      "cell_type": "markdown",
      "metadata": {
        "id": "aDVZ_DbimfmA"
      },
      "source": [
        "**Question 16:** Write a Python program to find the sum of the first n natural numbers."
      ]
    },
    {
      "cell_type": "code",
      "metadata": {
        "id": "ldmCJPobmfmA"
      },
      "outputs": [],
      "source": [
        "# Solution\n",
        "n = int(input(\"Enter a number: \"))\n",
        "sum_n = (n * (n + 1)) // 2\n",
        "print(f\"The sum of the first {n} natural numbers is {sum_n}\")"
      ],
      "execution_count": null
    },
    {
      "cell_type": "markdown",
      "metadata": {
        "id": "FWJkZXfYmfmA"
      },
      "source": [
        "**Question 17:** Write a Python program to check if a year is a leap year."
      ]
    },
    {
      "cell_type": "code",
      "metadata": {
        "id": "mgP4VdL8mfmA"
      },
      "outputs": [],
      "source": [
        "# Solution\n",
        "year = int(input(\"Enter a year: \"))\n",
        "if (year % 4 == 0 and year % 100 != 0) or (year % 400 == 0):\n",
        "    print(f\"{year} is a leap year.\")\n",
        "else:\n",
        "    print(f\"{year} is not a leap year.\")"
      ],
      "execution_count": null
    },
    {
      "cell_type": "markdown",
      "metadata": {
        "id": "Ojd7hcScmfmA"
      },
      "source": [
        "**Question 18:** Write a Python program to reverse a string."
      ]
    },
    {
      "cell_type": "code",
      "metadata": {
        "id": "97-T6EMsmfmA"
      },
      "outputs": [],
      "source": [
        "# Solution\n",
        "string = input(\"Enter a string: \")\n",
        "reversed_string = string[::-1]\n",
        "print(f\"The reversed string is: {reversed_string}\")"
      ],
      "execution_count": null
    },
    {
      "cell_type": "markdown",
      "metadata": {
        "id": "YAjCKMqGmfmA"
      },
      "source": [
        "**Question 19:** Write a Python program to check if a string is a palindrome."
      ]
    },
    {
      "cell_type": "code",
      "metadata": {
        "id": "l90UpYgDmfmA"
      },
      "outputs": [],
      "source": [
        "# Solution\n",
        "string = input(\"Enter a string: \")\n",
        "if string == string[::-1]:\n",
        "    print(f\"{string} is a palindrome.\")\n",
        "else:\n",
        "    print(f\"{string} is not a palindrome.\")"
      ],
      "execution_count": null
    },
    {
      "cell_type": "markdown",
      "metadata": {
        "id": "Rj8jw5sumfmD"
      },
      "source": [
        "**Question 20:** Write a Python program to sort a list of numbers in ascending order."
      ]
    },
    {
      "cell_type": "code",
      "metadata": {
        "id": "ZCICquprmfmD"
      },
      "outputs": [],
      "source": [
        "# Solution\n",
        "numbers = [int(x) for x in input(\"Enter numbers separated by space: \").split()]\n",
        "numbers.sort()\n",
        "print(f\"Sorted list: {numbers}\")"
      ],
      "execution_count": null
    }
  ],
  "metadata": {
    "kernelspec": {
      "display_name": "Python 3",
      "language": "python",
      "name": "python3"
    },
    "language_info": {
      "codemirror_mode": {
        "name": "ipython",
        "version": 3
      },
      "file_extension": ".py",
      "mimetype": "text/x-python",
      "name": "python",
      "nbconvert_exporter": "python",
      "pygments_lexer": "ipython3",
      "version": "3.8.5"
    },
    "colab": {
      "provenance": []
    }
  },
  "nbformat": 4,
  "nbformat_minor": 0
}